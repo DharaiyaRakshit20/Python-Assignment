{
 "cells": [
  {
   "cell_type": "code",
   "execution_count": 14,
   "id": "55f25361",
   "metadata": {
    "scrolled": true
   },
   "outputs": [
    {
     "name": "stdout",
     "output_type": "stream",
     "text": [
      "Enter Number :100\n",
      "your number is hunderd.\n"
     ]
    }
   ],
   "source": [
    "# Q.1  Write a Python program to check if a number is positive, negative or zero.\n",
    "\n",
    "num=int (input(\"Enter Number :\"))           #User input\n",
    "if num > 0 :                                #check for positive number\n",
    "      print(\"Your Number is Positive.\")     \n",
    "elif num == 0:                             #check for zero number\n",
    "      print(\"your number is Zero.\")\n",
    "else:                                      #check for nagitve number\n",
    "      print(\"Your number is nagitve.\")"
   ]
  },
  {
   "cell_type": "code",
   "execution_count": 20,
   "id": "601e4ced",
   "metadata": {},
   "outputs": [
    {
     "name": "stdout",
     "output_type": "stream",
     "text": [
      "Enter Number :9\n",
      "Factorial number is 362880.\n"
     ]
    }
   ],
   "source": [
    "# Q.2  Write a Python program to get the Factorial number of given number.\n",
    "\n",
    "fact= 1\n",
    "num=int(input(\"Enter Number :\"))    #user input\n",
    "\n",
    "for i in range(1,num+1):           #check for factorial number\n",
    "    fact *= i;\n",
    "    \n",
    "print(f\"Factorial number is {fact}.\") #print number"
   ]
  },
  {
   "cell_type": "code",
   "execution_count": 11,
   "id": "b332a4cf",
   "metadata": {
    "scrolled": true
   },
   "outputs": [
    {
     "name": "stdout",
     "output_type": "stream",
     "text": [
      "Enter Number :5\n",
      "Fibonacci series is 5\n",
      "0 1 1 2 3 "
     ]
    }
   ],
   "source": [
    "# Q.3  Write a Python program to get the Fibonacci series of given range.\n",
    "\n",
    "num= int (input(\"Enter Number :\"))\n",
    "print(f\"Fibonacci series is {num}\")   #print user number\n",
    "n1 = 0\n",
    "n2 = 1\n",
    "n3 = 0\n",
    "print(n1,n2,end=\" \")\n",
    "for i in range(2,num):\n",
    "    if (num<=1):\n",
    "        print(1)\n",
    "    else:                #else logic fabonacci\n",
    "        n3 = n1 + n2\n",
    "        n1 = n2\n",
    "        n2 = n3\n",
    "    print(n3,end=\" \")"
   ]
  },
  {
   "cell_type": "code",
   "execution_count": null,
   "id": "2a200d5c",
   "metadata": {},
   "outputs": [],
   "source": [
    "# Q.4  How memory is managed in Python?\n",
    "-->  Memory management in Python involves a private heap containing all Python objects and data structures. The management\n",
    "of this private heap is ensured internally by the Python memory manager."
   ]
  },
  {
   "cell_type": "code",
   "execution_count": null,
   "id": "9958c6a4",
   "metadata": {},
   "outputs": [],
   "source": [
    "# Q.5  What is the purpose continue statement in python?\n",
    "-->  The continue keyword is used to end the current iteration in a for loop (or a while loop), and continues to the next iteration."
   ]
  },
  {
   "cell_type": "code",
   "execution_count": 4,
   "id": "6500faf5",
   "metadata": {},
   "outputs": [
    {
     "name": "stdout",
     "output_type": "stream",
     "text": [
      "-----With temp-----\n",
      "Enter First Number :10\n",
      "Enter Second Number :20\n",
      "The value of N1 after swapping : 20\n",
      "The value of N2 after swapping : 10\n",
      "-----Without temp-----\n",
      "Enter First Number :30\n",
      "Enter Second Number :40\n",
      "The Value of A after swapping : 40\n",
      "The value of B after swapping : 30\n"
     ]
    }
   ],
   "source": [
    "# Q.6  Write python program that swap two number with temp variable and without temp variable.\n",
    "print(\"-----With temp-----\")\n",
    "n1= int(input(\"Enter First Number :\"))\n",
    "n2= int(input(\"Enter Second Number :\"))    #The user will provide two inputs\n",
    "\n",
    "temp = n1\n",
    "n1 = n2       #swap number with temp\n",
    "n2 = temp\n",
    "\n",
    "print(f\"The value of N1 after swapping : {n1}\")\n",
    "print(f\"The value of N2 after swapping : {n2}\")    #Print the swap number\n",
    "\n",
    "print(\"-----Without temp-----\")\n",
    "\n",
    "a= int (input(\"Enter First Number :\"))\n",
    "b= int (input(\"Enter Second Number :\"))     #The user will provide two inputs\n",
    "\n",
    "a = a + b\n",
    "b = a - b     #swap number with out temp\n",
    "a = a - b\n",
    "\n",
    "print(f\"The Value of A after swapping : {a}\")\n",
    "print(f\"The value of B after swapping : {b}\")   #Print the swap number"
   ]
  },
  {
   "cell_type": "code",
   "execution_count": 17,
   "id": "837f68d7",
   "metadata": {},
   "outputs": [
    {
     "name": "stdout",
     "output_type": "stream",
     "text": [
      "Enter any number to test whether it is odd or even: 10\n",
      "Number is even.\n"
     ]
    }
   ],
   "source": [
    "# Q.7  Write a Python program to find whether a given number is even or odd, print out an appropriate message to the user.\n",
    "\n",
    "num=int (input(\"Enter any number to test whether it is odd or even: \"))  #The user will provide a number\n",
    "\n",
    "if(num % 2)==0:     #check a even number\n",
    "    print(\"Number is even.\")\n",
    "\n",
    "else:\n",
    "    print(\"Number is odd.\")  #If there is no even number then odd number will be printed\n"
   ]
  },
  {
   "cell_type": "code",
   "execution_count": 3,
   "id": "ad104444",
   "metadata": {},
   "outputs": [
    {
     "name": "stdout",
     "output_type": "stream",
     "text": [
      "Enter Char :t\n",
      "[--char is consonat--]\n"
     ]
    }
   ],
   "source": [
    "# Q.8  Write a Python program to test whether a passed letter is a vowel or not.\n",
    "\n",
    "vowel= (input(\"Enter Char :\"))\n",
    "if (vowel==\"a\"or vowel==\"e\"or vowel==\"i\"or vowel==\"o\"or vowel==\"u\"):  #check for a small vowel number\n",
    "    print(\"Small vowel\")\n",
    "elif (vowel==\"A\"or vowel==\"E\"or vowel==\"I\"or vowel==\"O\"or vowel==\"U\"):  #check for a capital vowel number\n",
    "    print(\"Capital vowel\")\n",
    "else:\n",
    "    print(\"[--char is consonat--]\")"
   ]
  },
  {
   "cell_type": "code",
   "execution_count": 5,
   "id": "dd0678ab",
   "metadata": {},
   "outputs": [
    {
     "name": "stdout",
     "output_type": "stream",
     "text": [
      "Enter value of A : 88\n",
      "Enter value of B : 99\n",
      "Enter value of c : 88\n",
      "sum is : 275\n",
      "two value are equal\n",
      " sum will be = 0\n"
     ]
    }
   ],
   "source": [
    "# Q.9  Write a Python program to sum of three given integers. However, if two values are equal sum will be zero.\n",
    "\n",
    "a= int(input(\"Enter value of A : \"))\n",
    "b= int(input(\"Enter value of B : \"))    #The user will provide a number\n",
    "c= int(input(\"Enter value of c : \"))\n",
    "\n",
    "sum = a + b + c   #sum for all variabel\n",
    "print(\"sum is :\",sum)\n",
    "if ((a == b or a == c)):   #check for two value equal\n",
    "    if(a == b):\n",
    "        print(\"two value are equal\\n sum will be =\",a - b)\n",
    "    else:\n",
    "        print(\"two value are equal\\n sum will be =\",a - c)\n",
    "elif ((b == a or b == c)):   #check for two value equal\n",
    "    \n",
    "    if(b == a):\n",
    "        print(\"two value are equal\\n sum will be =\",b - a)\n",
    "    else:\n",
    "        print(\"two value are equal\\n sum will be =\",a - c)\n",
    "else:\n",
    "    print(\"*[Two value is not eqyal]*\")"
   ]
  },
  {
   "cell_type": "code",
   "execution_count": 10,
   "id": "6101307c",
   "metadata": {},
   "outputs": [
    {
     "name": "stdout",
     "output_type": "stream",
     "text": [
      "Enter first number :2\n",
      "Enter second numbeer :3\n",
      "True\n"
     ]
    }
   ],
   "source": [
    "# Q.10  Write a Python program that will return true if the two given integer values are equal or their sum or difference is 5.\n",
    "\n",
    "a= int(input(\"Enter first number :\"))\n",
    "b= int(input(\"Enter second numbeer :\"))  #The user will provide a number\n",
    "\n",
    "if ((a == b) or (a - b)== 5 or (a + b)== 5):  #check for two number are equal or their sum or difference is 5\n",
    "    print(\"True\")\n",
    "else:\n",
    "    print(\"False\")"
   ]
  },
  {
   "cell_type": "code",
   "execution_count": 6,
   "id": "fa506517",
   "metadata": {},
   "outputs": [
    {
     "name": "stdout",
     "output_type": "stream",
     "text": [
      "Enter the value of n :5\n",
      "1 2 3 4 5  = 15\n"
     ]
    }
   ],
   "source": [
    "# Q.11  Write a python program to sum of the first n positive integers.\n",
    "\n",
    "n = int(input(\"Enter the value of n :\")) #The user will provide a number\n",
    "\n",
    "sum = 0\n",
    "for i in range(1,n+1):  #Whatever number the user puts in, from 0 to that number\n",
    "    sum+=i   #all the numbers are summed up\n",
    "    print(i,end=\" \")\n",
    "print(\" =\",sum)"
   ]
  },
  {
   "cell_type": "code",
   "execution_count": 10,
   "id": "41ce060c",
   "metadata": {},
   "outputs": [
    {
     "name": "stdout",
     "output_type": "stream",
     "text": [
      "Enter Your Name :hirin\n",
      "str1\n",
      "5\n"
     ]
    }
   ],
   "source": [
    "# Q.12  Write a Python program to calculate the length of a string.\n",
    "\n",
    "str1 = input(\"Enter Your Name :\")  #The user will provide a number\n",
    "print(\"str1\")  \n",
    "print(len(str1))  #check for string lenth"
   ]
  },
  {
   "cell_type": "code",
   "execution_count": 14,
   "id": "02827dd9",
   "metadata": {},
   "outputs": [
    {
     "name": "stdout",
     "output_type": "stream",
     "text": [
      "Enter a string :Good moring\n",
      "{'G': 1, 'o': 3, 'd': 1, ' ': 1, 'm': 1, 'r': 1, 'i': 1, 'n': 1, 'g': 1}\n"
     ]
    }
   ],
   "source": [
    "# Q.13  Write a Python program to count the number of characters (character frequency) in a string\n",
    "\n",
    "n= input(\"Enter a string :\")   #The user will provide a string\n",
    "\n",
    "dict={}  #use for dictnory\n",
    "for i in n:\n",
    "    if i in dict:\n",
    "        dict[i]+=1  #use for number of count\n",
    "    else:\n",
    "        dict[i]=1\n",
    "print(dict)"
   ]
  },
  {
   "cell_type": "code",
   "execution_count": 16,
   "id": "687202b5",
   "metadata": {},
   "outputs": [],
   "source": [
    "# Q.14  What are negative indexes and why are they used?\n",
    "# -->  Negative Indexing is used to in Python to begin slicing from the end of the string i.e. the last. Slicing in Python gets \n",
    "#      a sub-string from a string. The slicing range is set as parameters i.e. start, stop and step."
   ]
  },
  {
   "cell_type": "code",
   "execution_count": 20,
   "id": "566cb8f4",
   "metadata": {},
   "outputs": [
    {
     "name": "stdout",
     "output_type": "stream",
     "text": [
      "Enter Long String :Good afternoon\n",
      "Any string number of under 'o' is : 4\n"
     ]
    }
   ],
   "source": [
    "# Q.15  Write a Python program to count occurrences of a substring in a string.\n",
    "\n",
    "str1 = input(\"Enter Long String :\") #The user will provide a string\n",
    "\n",
    "print(\"Any string number of under 'o' is :\",str1.count(\"o\")) #count sub string "
   ]
  },
  {
   "cell_type": "code",
   "execution_count": 24,
   "id": "5b047650",
   "metadata": {},
   "outputs": [
    {
     "name": "stdout",
     "output_type": "stream",
     "text": [
      "Enter a string : were are you from .i am from india.\n",
      "{'were': 1, 'are': 1, 'you': 1, 'from': 2, '.i': 1, 'am': 1, 'india.': 1}\n"
     ]
    }
   ],
   "source": [
    "# Q.16  Write a Python program to count the occurrences of each word in a given sentence.\n",
    "\n",
    "n= input(\"Enter a string : \")  #The user will provide a string\n",
    "dict={}     #use Dictionaries\n",
    "words = n.split()  #number convort to split\n",
    "\n",
    "for i in words:\n",
    "    if i in dict:\n",
    "        dict[i]+=1  # dict[i] in increment 1\n",
    "    else:\n",
    "        dict[i]=1  # dict[i] in equal to 1\n",
    "print(dict)"
   ]
  },
  {
   "cell_type": "code",
   "execution_count": 1,
   "id": "a5d131ee",
   "metadata": {},
   "outputs": [
    {
     "name": "stdout",
     "output_type": "stream",
     "text": [
      "Enter First Name: Rakshit\n",
      "Enter Second Name :Dharaiya\n",
      "Befor swap : Rakshit , Dharaiya\n",
      "After Swap : Dhkshit , Raaraiya\n"
     ]
    }
   ],
   "source": [
    "# Q.17  Write a Python program to get a single string from two given strings, separated by a space and swap the first two characters of each string.\n",
    "\n",
    "a = input(\"Enter First Name: \")  #The user will provide a string\n",
    "b = input(\"Enter Second Name :\")\n",
    "print(\"Befor swap :\",a,\",\",b)\n",
    "a1 = b[0:2] + a[2:]  #two string convert to swap\n",
    "b1 = a[0:2] + b[2:]\n",
    "print(\"After Swap :\",a1,\",\",b1)"
   ]
  },
  {
   "cell_type": "code",
   "execution_count": 4,
   "id": "c04c0331",
   "metadata": {},
   "outputs": [
    {
     "name": "stdout",
     "output_type": "stream",
     "text": [
      "Enter A Syntex: play\n",
      "playing\n"
     ]
    }
   ],
   "source": [
    "# Q.18  Write a Python program to add 'ing' at the end of a given string (length should be at least 3). If the given string already ends with 'ing' then add\n",
    "#      'ly' instead if the string length of the given string is less than 3, leave it unchanged.\n",
    "\n",
    "str1= input(\"Enter A Syntex: \") #The user will provide a string\n",
    "if len(str1) >= 3:  #length should be at least 3\n",
    "    if str1.endswith('ing'):   #use for endswith\n",
    "        str1 += 'ly'   #If 'ing' is given at the end of the string then 'ly' will be found\n",
    "    else:\n",
    "        str1 += 'ing'  #If 'ing' is ny then ing will appear at the end\n",
    "\n",
    "print(str1)"
   ]
  },
  {
   "cell_type": "code",
   "execution_count": 6,
   "id": "a8ae8529",
   "metadata": {},
   "outputs": [
    {
     "name": "stdout",
     "output_type": "stream",
     "text": [
      "ENter String: i am a not a poor men\n",
      "i am a good men\n"
     ]
    }
   ],
   "source": [
    "# Q.19 Write a Python program to find the first appearance of the substring 'not' and 'poor' from a given string, if 'not' follows the 'poor', replace the\n",
    "#      whole 'not'...'poor' substring with 'good'. Return the resulting string.\n",
    "\n",
    "str1=input(\"ENter String: \") #The user will provide a string\n",
    "i1=str1.find(\"not\")\n",
    "i2=str1.find(\"poor\")\n",
    "if i1<12:                                    #useing replace method and \n",
    "    str2=str1.replace(str1[i1:i2+4],\"good\")  #Whatever is written between note and poor will be replaced and you will be replaced by good\n",
    "    print(str2)\n",
    "else:\n",
    "    print(str1)"
   ]
  },
  {
   "cell_type": "code",
   "execution_count": 3,
   "id": "c5551b4c",
   "metadata": {},
   "outputs": [
    {
     "name": "stdout",
     "output_type": "stream",
     "text": [
      "Enter a stringhello jinali dharaiya\n",
      "Largest string of lenth : {8}\n"
     ]
    }
   ],
   "source": [
    "# Q.20 Write a Python function that takes a list of words and returns the length of the longest one.\n",
    "str= input(\"Enter a string\")  #The user will provide a string\n",
    "s=str.split()  #To turn a string into a split\n",
    "long=len(s[0]) # To view split string length\n",
    "for i in s:\n",
    "    if long < len(i):  #check to len(i) long to big or not \n",
    "        long = len(i)  # is True are to stor len(i) in long variable \n",
    "print(\"Largest string of lenth :\",{long})"
   ]
  },
  {
   "cell_type": "code",
   "execution_count": 9,
   "id": "384541c6",
   "metadata": {},
   "outputs": [
    {
     "name": "stdout",
     "output_type": "stream",
     "text": [
      "Enter String :abcd\n",
      "dcba\n"
     ]
    }
   ],
   "source": [
    "# Q.21 Write a Python function to reverses a string if its length is a multiple of 4.\n",
    "\n",
    "str1 = input(\"Enter String :\")  # The user will provide a string\n",
    "if len(str1) % 4 == 0: #The length of the string should be greater than or equal to 4\n",
    "    print(''.join(reversed(str1)))  # is True after string in revers\n",
    "else:\n",
    "    print(str1)"
   ]
  },
  {
   "cell_type": "code",
   "execution_count": 6,
   "id": "f5e6e111",
   "metadata": {},
   "outputs": [
    {
     "name": "stdout",
     "output_type": "stream",
     "text": [
      "Enter a string :hello\n",
      "helo\n"
     ]
    }
   ],
   "source": [
    "# Q.22 Write a Python program to get a string made of the first 2 and the last 2 chars from a given a string. If the string length is less than 2, return\n",
    "#      instead of the empty string.\n",
    "str1 = input(\"Enter a string :\")   # The user will provide a string\n",
    "\n",
    "if len(str1) > 2:  # check string if len geterthan 2\n",
    "    str2 =  str1[0:2] + str1[-2:]  #To concatenate the first and last two words of a string\n",
    "    print(str2)"
   ]
  },
  {
   "cell_type": "code",
   "execution_count": 8,
   "id": "1feac86f",
   "metadata": {},
   "outputs": [
    {
     "name": "stdout",
     "output_type": "stream",
     "text": [
      "Enter long string :hello dharaiya\n",
      "Enter short string :rakhit\n",
      "hrakhita\n"
     ]
    }
   ],
   "source": [
    "# Q.23 Write a Python function to insert a string in the middle of a string\n",
    "\n",
    "str1 = input(\"Enter long string :\")    # The user will provide a string\n",
    "str2 = input(\"Enter short string :\")   # The user will provide a string\n",
    "if len(str1) > 2:   #check string if len geterthan 2\n",
    "    str3 = str1[0] + str2 + str1[-1]  #logic to middel insert string\n",
    "    print(str3)"
   ]
  },
  {
   "cell_type": "code",
   "execution_count": null,
   "id": "d327865d",
   "metadata": {},
   "outputs": [],
   "source": []
  },
  {
   "cell_type": "code",
   "execution_count": null,
   "id": "e18d091a",
   "metadata": {},
   "outputs": [],
   "source": []
  }
 ],
 "metadata": {
  "kernelspec": {
   "display_name": "Python 3 (ipykernel)",
   "language": "python",
   "name": "python3"
  },
  "language_info": {
   "codemirror_mode": {
    "name": "ipython",
    "version": 3
   },
   "file_extension": ".py",
   "mimetype": "text/x-python",
   "name": "python",
   "nbconvert_exporter": "python",
   "pygments_lexer": "ipython3",
   "version": "3.10.9"
  }
 },
 "nbformat": 4,
 "nbformat_minor": 5
}
