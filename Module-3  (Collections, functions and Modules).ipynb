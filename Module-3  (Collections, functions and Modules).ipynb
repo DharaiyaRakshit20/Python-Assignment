{
 "cells": [
  {
   "cell_type": "code",
   "execution_count": null,
   "id": "b225ced4",
   "metadata": {},
   "outputs": [],
   "source": [
    "# Q 1. What is List? How will you reverse a list?\n",
    "#--->  A built-in function called reverse() is used to reverse the list. This simple and quick way to reverse a list in Python\n",
    "#      requires little memory. Syntax: list_name. reverse() Here, list_name means you have to write the list's name, which has \n",
    "#      to be reversed."
   ]
  },
  {
   "cell_type": "code",
   "execution_count": 3,
   "id": "046b0811",
   "metadata": {},
   "outputs": [
    {
     "name": "stdout",
     "output_type": "stream",
     "text": [
      "[2, 33, 222, 14]\n"
     ]
    }
   ],
   "source": [
    "# Q 2. How will you remove last object from a list?\n",
    "#      Suppose list1 is [2, 33, 222, 14, and 25], what is list1 [-1]? \n",
    "\n",
    "list1=[2,33,222,14,25]\n",
    "list1.pop(-1)  #remove last -1 object\n",
    "print(list1)"
   ]
  },
  {
   "cell_type": "code",
   "execution_count": null,
   "id": "3cdfa18d",
   "metadata": {},
   "outputs": [],
   "source": [
    "# Q 3. Differentiate between append () and extend () methods? \n",
    "#--->  The append() method in the programming language Python adds an item to a list that already exists whereas the extend() \n",
    "#      method adds each of the iterable elements which is supplied as a parameter to the end of the original list."
   ]
  },
  {
   "cell_type": "code",
   "execution_count": 6,
   "id": "0ecf662c",
   "metadata": {},
   "outputs": [
    {
     "name": "stdout",
     "output_type": "stream",
     "text": [
      "Enter Number :5\n",
      "Enter Element :2\n",
      "Enter Element :3\n",
      "Enter Element :5\n",
      "Enter Element :6\n",
      "Enter Element :4\n",
      "Maximum elements :  6\n",
      "Minimum elements :  2\n",
      "8\n"
     ]
    }
   ],
   "source": [
    "# Q 4.Write a Python function to get the largest number, smallest num and sum of all from a list.\n",
    "\n",
    "list1 = []\n",
    "num = int(input(\"Enter Number :\"))\n",
    "for i in range(num):\n",
    "    element = int(input(\"Enter Element :\"))\n",
    "    list1.append(element)  # empty list add in element\n",
    "print(\"Maximum elements : \",max(list1))  #list for a largest number\n",
    "print(\"Minimum elements : \",min(list1))  #list for a smallest number\n",
    "\n",
    "sum = max(list1) + min(list1)  # sum of smallest number and largest number\n",
    "\n",
    "print(sum)"
   ]
  },
  {
   "cell_type": "code",
   "execution_count": 14,
   "id": "4a2da1e1",
   "metadata": {},
   "outputs": [
    {
     "name": "stdout",
     "output_type": "stream",
     "text": [
      "Ennter number : 2\n",
      "Enter Elements :12\n",
      "Enter Elements :8\n",
      "[12, 8]\n",
      "Enteer number : 4\n",
      "Enter Elements : 5\n",
      "Enter Elements : 5\n",
      "Enter Elements : 5\n",
      "Enter Elements : 5\n",
      "[5, 5, 5, 5]\n",
      "List1 and List2 is equle.\n"
     ]
    }
   ],
   "source": [
    "# Q 5. How will you compare two lists?\n",
    "\n",
    "list1 = []\n",
    "num1 = int(input(\"Ennter number : \"))\n",
    "for i in range(num1):\n",
    "    element1 = int(input(\"Enter Elements :\"))\n",
    "    list1.append(element1)       #To append an element in List 1\n",
    "print(list1)\n",
    "sum1 = list1 + list1       #sum of list1\n",
    "list2 = []\n",
    "num2 = int(input(\"Enteer number : \"))\n",
    "for a in range(num2):\n",
    "    element2 = int(input(\"Enter Elements : \"))\n",
    "    list2.append(element2)     #To append an element in List 2\n",
    "print(list2)\n",
    "sum2 = list2 + list2     #sum of list2\n",
    "if sum1 != sum2:       #To check if List 1 and List 2 are equal or not\n",
    "    print(\"List1 and List2 is equle.\")\n",
    "else:\n",
    "    print(\"List1 and List2 Is not equle.\")"
   ]
  },
  {
   "cell_type": "code",
   "execution_count": 14,
   "id": "a4fe0d8f",
   "metadata": {},
   "outputs": [
    {
     "name": "stdout",
     "output_type": "stream",
     "text": [
      "Enter number :4\n",
      "Enter string : RakshitR\n",
      "Enter string : chirag\n",
      "Enter string : sugandhs\n",
      "Enter string : rahul\n",
      "list1 is :  ['RakshitR', 'chirag', 'sugandhs', 'rahul']\n",
      "RakshitR\n",
      "sugandhs\n"
     ]
    }
   ],
   "source": [
    "# Q 6. Write a Python program to count the number of strings where the string length is 2 or more and the first and last character are same from a given\n",
    "#      list of strings.\n",
    "\n",
    "list1=[]\n",
    "num = int(input(\"Enter number :\"))\n",
    "for i in range(num):\n",
    "    element=input(\"Enter string : \")\n",
    "    list1.append(element)      #To append an element in List 1\n",
    "print(\"list1 is : \",list1)    #print list1\n",
    "\n",
    "for i in list1:\n",
    "    if len(i)>=2 and i[0] == i[-1]: \n",
    "        print(i)"
   ]
  },
  {
   "cell_type": "code",
   "execution_count": 3,
   "id": "a9c42474",
   "metadata": {},
   "outputs": [
    {
     "name": "stdout",
     "output_type": "stream",
     "text": [
      "Enter number : 5\n",
      "Enter your Elements : rakshit\n",
      "Enter your Elements : 19\n",
      "Enter your Elements : Dharaiya\n",
      "Enter your Elements : 19\n",
      "Enter your Elements : Rajeshbhai\n",
      "['rakshit', '19', 'Dharaiya', 'Rajeshbhai']\n"
     ]
    }
   ],
   "source": [
    "# Q 7.  Write a Python program to remove duplicates from a list. \n",
    "\n",
    "list1=[]\n",
    "num = int(input(\"Enter number : \"))\n",
    "for i in range(num):\n",
    "    Elements = input(\"Enter your Elements : \")\n",
    "    list1.append(Elements)    #To append an element in List 1\n",
    "list1 = list(dict.fromkeys(list1))   #Dictionaries and their Fromkeys have been used\n",
    "print(list1)"
   ]
  },
  {
   "cell_type": "code",
   "execution_count": 6,
   "id": "67e59bbf",
   "metadata": {},
   "outputs": [
    {
     "name": "stdout",
     "output_type": "stream",
     "text": [
      "Enter list : hello\n",
      "not empty\n"
     ]
    }
   ],
   "source": [
    "# Q 8.  Write a Python program to check a list is empty or not.  \n",
    "\n",
    "list2 = input(\"Enter list : \")\n",
    "if len(list2)==0:   #To check if the length of list2 is 0 or not\n",
    "    print(\"empty\")\n",
    "else:\n",
    "    print(\"not empty\")"
   ]
  },
  {
   "cell_type": "code",
   "execution_count": 4,
   "id": "b9f6a848",
   "metadata": {},
   "outputs": [
    {
     "name": "stdout",
     "output_type": "stream",
     "text": [
      "True\n",
      "None\n"
     ]
    }
   ],
   "source": [
    "# Q 9.  Write a Python function that takes two lists and returns true if they have at least one common member.\n",
    "\n",
    "def commen_data(list1, list2):  #COMMEN_DATA is function\n",
    "    result = False                         \n",
    "    for a in list1:\n",
    "        for b in list2:\n",
    "            if a == b:    #To check if A == B then true will be printed otherwise none will be printed\n",
    "                result = True\n",
    "                return  result\n",
    "print(commen_data([1,2,3,4,5],[5,6,7,8,9]))  #funcution call\n",
    "print(commen_data([1,2,3,4,5], [6,7,8,9]))"
   ]
  },
  {
   "cell_type": "code",
   "execution_count": 3,
   "id": "20622fb5",
   "metadata": {},
   "outputs": [
    {
     "name": "stdout",
     "output_type": "stream",
     "text": [
      "[16, 25, 4, 9, 25]\n"
     ]
    }
   ],
   "source": [
    "# Q 10. Write a Python program to generate and print a list of first and last 5 elements where the values are square of numbers between 1 and 30\n",
    "\n",
    "list1=[4,5,6,9,6,9,5,45,5,6,4,65,456,4,6,7,7,8,5,2,3,656,2,3,6,5]\n",
    "l2=[]\n",
    "for i in list1[:5]:\n",
    "    if i**2 <30:\n",
    "        l2.append(i**2)\n",
    "for i in list1[-5:]:\n",
    "    if i**2 <30:\n",
    "        l2.append(i**2)\n",
    "print(l2)"
   ]
  },
  {
   "cell_type": "code",
   "execution_count": 16,
   "id": "324b3ba9",
   "metadata": {},
   "outputs": [
    {
     "name": "stdout",
     "output_type": "stream",
     "text": [
      "Enter number : 5\n",
      "Enter value :1\n",
      "Enter value :2\n",
      "Enter value :35\n",
      "Enter value :65\n",
      "Enter value :2\n",
      "['1', '2', '35', '65', '2']\n",
      "{'2', '1', '35', '65'}\n"
     ]
    }
   ],
   "source": [
    "# Q 11. Write a Python function that takes a list and returns a new list with unique elements of the first list. \n",
    "\n",
    "list1=[]\n",
    "num= int(input(\"Enter number : \"))\n",
    "for i in range(num):\n",
    "    list1.append(input(\"Enter value :\"))  #To append an element in List 1\n",
    "print(list1)\n",
    "list2=set(list1)   #list2 set in list1\n",
    "print(list2)"
   ]
  },
  {
   "cell_type": "code",
   "execution_count": 18,
   "id": "3274f27c",
   "metadata": {},
   "outputs": [
    {
     "name": "stdout",
     "output_type": "stream",
     "text": [
      "abcdef"
     ]
    }
   ],
   "source": [
    "# Q 12. Write a Python program to convert a list of characters into a string.\n",
    "\n",
    "list1=['a','b','c','d','e','f']\n",
    "str1=\"\"\n",
    "for i in list1:\n",
    "    print(i + str1,end=\"\")  "
   ]
  },
  {
   "cell_type": "code",
   "execution_count": 74,
   "id": "0341b57b",
   "metadata": {},
   "outputs": [
    {
     "data": {
      "text/plain": [
       "'sugandh'"
      ]
     },
     "execution_count": 74,
     "metadata": {},
     "output_type": "execute_result"
    }
   ],
   "source": [
    "# Q 13. Write a Python program to select an item randomly from a list.\n",
    "\n",
    "import random   #import random \n",
    "list1=['Rakshit','sugandh','chirag']\n",
    "random.choice(list1)  #gives to random values"
   ]
  },
  {
   "cell_type": "code",
   "execution_count": 2,
   "id": "222d30b9",
   "metadata": {},
   "outputs": [
    {
     "name": "stdout",
     "output_type": "stream",
     "text": [
      "Enter Number :5\n",
      "Enter A numbers :23\n",
      "Enter A numbers :56\n",
      "Enter A numbers :85\n",
      "Enter A numbers :45\n",
      "Enter A numbers :95\n",
      "45\n"
     ]
    }
   ],
   "source": [
    "# Q 14. Write a Python program to find the second smallest number in a list.\n",
    "\n",
    "list1=[]\n",
    "num=int(input(\"Enter Number :\"))\n",
    "for i in range(num):\n",
    "    n=int(input(\"Enter A numbers :\"))\n",
    "    list1.append(n)#To append an n in List 1\n",
    "list1.sort()   #list 1 in sort\n",
    "print(list1[1])  #print in second smallest number"
   ]
  },
  {
   "cell_type": "code",
   "execution_count": 2,
   "id": "c23afc43",
   "metadata": {},
   "outputs": [
    {
     "name": "stdout",
     "output_type": "stream",
     "text": [
      "Enter number :10\n",
      "Enter A Number : 1\n",
      "Enter A Number : 25\n",
      "Enter A Number : 6\n",
      "Enter A Number : 1\n",
      "Enter A Number : 2\n",
      "Enter A Number : 8\n",
      "Enter A Number : 45\n",
      "Enter A Number : 7\n",
      "Enter A Number : 8\n",
      "Enter A Number : 2\n",
      "[1, 25, 6, 2, 8, 45, 7]\n"
     ]
    }
   ],
   "source": [
    "# Q 15. Write a Python program to get unique values from a list\n",
    "\n",
    "list1=[]\n",
    "num=int(input(\"Enter number :\"))\n",
    "for i in range(num):\n",
    "    n=int(input(\"Enter A Number : \"))\n",
    "    list1.append(n) #To append an element in List 1\n",
    "list1=list(dict.fromkeys(list1))  #FromKeys is used to add unique values\n",
    "print(list1)"
   ]
  },
  {
   "cell_type": "code",
   "execution_count": 1,
   "id": "cee51f5e",
   "metadata": {},
   "outputs": [
    {
     "name": "stdout",
     "output_type": "stream",
     "text": [
      "List Find\n"
     ]
    }
   ],
   "source": [
    "# Q 16. Write a Python program to check whether a list contains a sub list \n",
    "list1=[15,24,66,51,[45,32,45,14],45,62,31]\n",
    "flag=False\n",
    "for i in list1:\n",
    "    if type(i)==list:  #To check whether type of i is list or not\n",
    "        flag=True\n",
    "        break\n",
    "        \n",
    "if flag==True:  #If the flag is True then list found will be printed otherwise list not found will be printed\n",
    "    print(\"List Find\")\n",
    "else:\n",
    "    print(\"List Not find\")\n",
    "    \n"
   ]
  },
  {
   "cell_type": "code",
   "execution_count": 3,
   "id": "e99618b0",
   "metadata": {},
   "outputs": [
    {
     "name": "stdout",
     "output_type": "stream",
     "text": [
      "Hello\n",
      "Wow\n",
      "Great\n"
     ]
    }
   ],
   "source": [
    "# Q 17. Write a Python program to split a list into different variables.\n",
    "\n",
    "list1=[\"Hello\",\"Wow\",\"Great\"]\n",
    "a,b,c=list1\n",
    "print(a)   #print of list all element\n",
    "print(b)\n",
    "print(c)"
   ]
  },
  {
   "cell_type": "code",
   "execution_count": null,
   "id": "f80a8715",
   "metadata": {},
   "outputs": [],
   "source": [
    "# Q 18. What is tuple? Difference between list and tuple. \n",
    "#---->  The primary difference between tuples and lists is that tuples are immutable as opposed to lists which are mutable.\n",
    "#       Therefore, it is possible to change a list but not a tuple. The contents of a tuple cannot change once they have been\n",
    "#       created in Python due to the immutability of tuples."
   ]
  },
  {
   "cell_type": "code",
   "execution_count": 1,
   "id": "86c020f1",
   "metadata": {},
   "outputs": [
    {
     "name": "stdout",
     "output_type": "stream",
     "text": [
      "(14, 'Hello', 15.25, [15, 25, 84, 56], True)\n"
     ]
    }
   ],
   "source": [
    "# Q 19. Write a Python program to create a tuple with different data types. \n",
    "tup=(14,\"Hello\",15.25,[15,25,84,56],True)\n",
    "print(tup)"
   ]
  },
  {
   "cell_type": "code",
   "execution_count": 6,
   "id": "f7b20ee6",
   "metadata": {},
   "outputs": [
    {
     "name": "stdout",
     "output_type": "stream",
     "text": [
      "Enter a tuple number :5\n",
      "Enter A value of tuple :1\n",
      "Enter A value of tuple :2\n",
      "Enter A value of tuple :3\n",
      "Enter A value of tuple :4\n",
      "Enter A value of tuple :5\n",
      "(1, 2, 3, 4, 5)\n"
     ]
    }
   ],
   "source": [
    "# Q 20. Write a Python program to create a tuple with numbers. \n",
    "\n",
    "intTuple=()\n",
    "num=int(input(\"Enter a tuple number :\"))\n",
    "for i in range(num):\n",
    "    value=int(input(\"Enter A value of tuple :\"))\n",
    "    intTuple += (value,)#To match the value from user in tuple to intTuple\n",
    "print(intTuple)"
   ]
  },
  {
   "cell_type": "code",
   "execution_count": 9,
   "id": "981e4c1f",
   "metadata": {},
   "outputs": [
    {
     "name": "stdout",
     "output_type": "stream",
     "text": [
      "Enter a string : hello world\n",
      "('hello', 'world')\n"
     ]
    }
   ],
   "source": [
    "# Q 21. Write a Python program to convert a tuple to a string. \n",
    "\n",
    "str1=input(\"Enter a string : \")\n",
    "a=str1.split(\" \")  #string is split\n",
    "tup=tuple(a)   #split string convert to tuple\n",
    "print(tup)"
   ]
  },
  {
   "cell_type": "code",
   "execution_count": 5,
   "id": "580bcd2c",
   "metadata": {},
   "outputs": [
    {
     "name": "stdout",
     "output_type": "stream",
     "text": [
      "True\n",
      "False\n"
     ]
    }
   ],
   "source": [
    "# Q 22. Write a Python program to check whether an element exists within a tuple. \n",
    "\n",
    "tuple=('Rakshit',58,56.25,'Rakshit:1',45,788.32558,'python')\n",
    "print('python' in tuple)  #To check whether a tuple contains a Python string or not\n",
    "print(155 in tuple)  #To check whether a tuple contains a 155 int or not"
   ]
  },
  {
   "cell_type": "code",
   "execution_count": 10,
   "id": "05400025",
   "metadata": {},
   "outputs": [
    {
     "name": "stdout",
     "output_type": "stream",
     "text": [
      "5\n"
     ]
    }
   ],
   "source": [
    "# Q 23. Write a Python program to find the length of a tuple.\n",
    "\n",
    "tuple1=(\"Hello\",\"i\",\"am\",\"good\",\"men\")\n",
    "print(len(tuple1))    #For the length of the tuple"
   ]
  },
  {
   "cell_type": "code",
   "execution_count": 19,
   "id": "ad686f0e",
   "metadata": {},
   "outputs": [
    {
     "name": "stdout",
     "output_type": "stream",
     "text": [
      "['Hello', 'i', 'am', 'good', 'men']\n"
     ]
    }
   ],
   "source": [
    "# Q 24. Write a Python program to convert a list to a tuple. \n",
    "\n",
    "tuple1=(\"Hello\",\"i\",\"am\",\"good\",\"men\")\n",
    "print(list(tuple1))   #convert to tuple in list"
   ]
  },
  {
   "cell_type": "code",
   "execution_count": 26,
   "id": "fa693780",
   "metadata": {},
   "outputs": [
    {
     "name": "stdout",
     "output_type": "stream",
     "text": [
      "('men', 'good', 'am', 'i', 'Hello')\n"
     ]
    }
   ],
   "source": [
    "# Q 25. Write a Python program to reverse a tuple. \n",
    "t2=()\n",
    "tuple1=(\"Hello\",\"i\",\"am\",\"good\",\"men\")\n",
    "for i in reversed(tuple1): #tuple reverse\n",
    "    t2 += (i,)\n",
    "print(t2)"
   ]
  },
  {
   "cell_type": "code",
   "execution_count": 1,
   "id": "1d198d87",
   "metadata": {},
   "outputs": [
    {
     "name": "stdout",
     "output_type": "stream",
     "text": [
      "Enter Value50\n",
      "Enter Valueplace\n",
      "[25, 2.3, [25, 32, 25], (25, 65, '50'), ('hello', 'place')]\n"
     ]
    }
   ],
   "source": [
    "# Q 26. Write a Python program to replace last value of tuples in a list.\n",
    "list1=[25,2.3,[25,32,25],(25,65,45),(\"hello\",\"world\")]\n",
    "list3=[]\n",
    "for i in list1:\n",
    "    if type(i)==tuple:  #To see if the type of i is a tuple or not\n",
    "        list2=list(i)    #convert to i of list2\n",
    "        list2[-1]=input(\"Enter Value : \")\n",
    "        i=tuple(list2)  #convert to list2 of tuple\n",
    "        list3.append(i)  # i append in list3\n",
    "    else:\n",
    "        list3.append(i)\n",
    "print(list3)"
   ]
  },
  {
   "cell_type": "code",
   "execution_count": 12,
   "id": "2bd34ee9",
   "metadata": {
    "scrolled": false
   },
   "outputs": [
    {
     "name": "stdout",
     "output_type": "stream",
     "text": [
      "Enter A number :5\n",
      "Enter number :1\n",
      "Enter number :2\n",
      "Enter number :1\n",
      "Enter number :2\n",
      "Enter number :3\n",
      "(1, 2, 1, 2, 3)\n",
      "{1, 2}\n"
     ]
    }
   ],
   "source": [
    "# Q 27. Write a Python program to find the repeated items of a tuple.\n",
    "\n",
    "# tuple1=(1,2,3,4,5,6,1,2,5,4)\n",
    "# count1=tuple1.count(1)\n",
    "# print(count1)\n",
    "\n",
    "list1=[]\n",
    "num=int(input(\"Enter A number :\"))\n",
    "for i in range(num):\n",
    "    element=int(input(\"Enter number :\"))\n",
    "    list1.append(element)   #element append to list1\n",
    "tuple1=tuple(list1)   #convert to list1 in tuple\n",
    "print(tuple1)\n",
    "set1=set()  #empty set\n",
    "for i in tuple1:\n",
    "    if tuple1.count(i) > 1:  #tuple count of geterthen of 1\n",
    "           set1.add(i)    # i add of set1\n",
    "print(set1)            "
   ]
  },
  {
   "cell_type": "code",
   "execution_count": 20,
   "id": "ff274a87",
   "metadata": {},
   "outputs": [
    {
     "name": "stdout",
     "output_type": "stream",
     "text": [
      "orignel list : [(10, 20), ('hello', 'World'), (25, 'Rakshit'), (), (25, 26)]\n",
      "[(10, 20), ('hello', 'World'), (25, 'Rakshit'), (25, 26)]\n"
     ]
    }
   ],
   "source": [
    "# Q 28.Write a Python program to remove an empty tuple(s) from a list of tuples. \n",
    "\n",
    "list1=[(10,20),(\"hello\",\"World\"),(25,\"Rakshit\"),(  ),(25,26)]\n",
    "print(\"orignel list :\",list1)\n",
    "for i in list1:\n",
    "    if(len(i)==0):  #lenth of i is == 0\n",
    "        list1.remove(i) #list1 remove in i\n",
    "print(list1)"
   ]
  },
  {
   "cell_type": "code",
   "execution_count": 21,
   "id": "fa683bd8",
   "metadata": {},
   "outputs": [
    {
     "name": "stdout",
     "output_type": "stream",
     "text": [
      "[1, 2, 3]\n",
      "[4, 5, 6]\n",
      "[7, 8, 9]\n"
     ]
    }
   ],
   "source": [
    "# Q 29. Write a Python program to unzip a list of tuples into individual lists.\n",
    "list1=[(1,2,3),(4,5,6),(7,8,9)]\n",
    "for i in list1:   \n",
    "    print(list(i))"
   ]
  },
  {
   "cell_type": "code",
   "execution_count": 4,
   "id": "c55382be",
   "metadata": {},
   "outputs": [
    {
     "name": "stdout",
     "output_type": "stream",
     "text": [
      "{'Rakshit': [50], 'Pratik': [60], 'Chirag': [45], 'Hardik': [75]}\n"
     ]
    }
   ],
   "source": [
    "# Q 30. Write a Python program to convert a list of tuples into a dictionary.\n",
    "\n",
    "list1=[(\"Rakshit\",50),(\"Pratik\",60),(\"Chirag\",45),(\"Hardik\",75)]\n",
    "dict1=dict()  #empty dictionary\n",
    "\n",
    "for name,score in list1:\n",
    "    dict1.setdefault(name , []).append(score)   #To append name and score to decisioner from setdefult\n",
    "#     dict1.append(name , [score])\n",
    "print(dict1)\n",
    "    "
   ]
  },
  {
   "cell_type": "code",
   "execution_count": 5,
   "id": "f94728e1",
   "metadata": {},
   "outputs": [
    {
     "name": "stdout",
     "output_type": "stream",
     "text": [
      "{'Rakshit': 25, 'Chirag': 85, 'Hardik': 65}\n"
     ]
    }
   ],
   "source": [
    "# Q 31. How will you create a dictionary using tuples in python?\n",
    "\n",
    "tuple1=((\"Rakshit\",25),(\"Chirag\",85),(\"Hardik\",65))\n",
    "dict1=dict(tuple1)  #convert to tuple in dictionary\n",
    "print(dict1)"
   ]
  },
  {
   "cell_type": "code",
   "execution_count": 30,
   "id": "1c0d586d",
   "metadata": {},
   "outputs": [
    {
     "name": "stdout",
     "output_type": "stream",
     "text": [
      "Acending : {'Akash': 48, 'Mehul': 46, 'Prince': 49, 'Raghav': 45, 'Rakesh': 47}\n",
      "Descending : {'Rakesh': 47, 'Raghav': 45, 'Prince': 49, 'Mehul': 46, 'Akash': 48}\n"
     ]
    }
   ],
   "source": [
    "# Q 32. Write a Python script to sort (ascending and descending) a dictionary by value.\n",
    "dict2={}  #dict2 is empty\n",
    "dict3={}  #dict3 is empty\n",
    "dict1={\"Raghav\":45,\"Mehul\":46,\"Rakesh\":47,\"Akash\":48,\"Prince\":49}\n",
    "list1=list(dict1.items())  #Replace dict1.items with list1\n",
    "list2=list(dict1.items())  #Replace dict1.items with list2\n",
    "list1.sort()    #list1 sort(acending)\n",
    "list2.sort(reverse=True)  #list2 sort(descending)\n",
    "dict2=dict(list1)  #convert to list1 in dict2\n",
    "dict3=dict(list2)  #convert to list2 in dict3\n",
    "print(f\"Acending : {dict2}\")\n",
    "print(f\"Descending : {dict3}\")"
   ]
  },
  {
   "cell_type": "code",
   "execution_count": 3,
   "id": "21a2e9b1",
   "metadata": {},
   "outputs": [
    {
     "name": "stdout",
     "output_type": "stream",
     "text": [
      "{'Rakshit': 111, 'Chirag': 112, 'Prtik': 211, 'Hardik': 212, 'Avani': 311, 'Bhumi': 312}\n"
     ]
    }
   ],
   "source": [
    "# Q 33. Write a Python script to concatenate following dictionaries to create a new one\n",
    "\n",
    "dict1={\"Rakshit\":111,\"Chirag\":112}\n",
    "dict2={\"Prtik\":211,\"Hardik\":212}\n",
    "dict3={\"Avani\":311,\"Bhumi\":312}\n",
    "dict4={}\n",
    "for i in (dict1,dict2,dict3):\n",
    "    dict4.update(i)  #dict1,dict2 and sdict3 is add to dict4\n",
    "print(dict4)"
   ]
  },
  {
   "cell_type": "code",
   "execution_count": 8,
   "id": "5a84303d",
   "metadata": {},
   "outputs": [
    {
     "name": "stdout",
     "output_type": "stream",
     "text": [
      "Enter A key :Malay\n",
      "Yes\n"
     ]
    }
   ],
   "source": [
    "# Q 34.  Write a Python script to check if a given key already exists in a dictionary. \n",
    "dict1={\"Rakshit\":14,\"Chirag\":15,\"Rahul\":16,\"Malay\":17,\"Hardik\":18,\"Jay\":19}\n",
    "key=input(\"Enter A key :\")\n",
    "dict1.keys()\n",
    "if key in dict1.keys():  #To check whether any key given by user is in dict1 or not\n",
    "    print(\"Yes\")\n",
    "else:\n",
    "    print(\"No\")"
   ]
  },
  {
   "cell_type": "code",
   "execution_count": 22,
   "id": "f5596e3f",
   "metadata": {},
   "outputs": [
    {
     "name": "stdout",
     "output_type": "stream",
     "text": [
      "a 14\n",
      "b 15\n",
      "c 16\n",
      "d 17\n"
     ]
    }
   ],
   "source": [
    "# Q 35. How Do You Traverse Through A Dictionary Object In Python? \n",
    "#---->  Using dict. items() Method. ...\n",
    "        #Using Keys() Method. ...\n",
    "        #Using Values() Method. ...\n",
    "        #Iterating with Index. ...\n",
    "        #Iterating Over Dictionary In Alphabetical Order. ...\n",
    "        #Sort Using Dictionary Item Values.\n",
    "        \n",
    "dict1={\"a\":14,\"b\":15,\"c\":16,\"d\":17}\n",
    "\n",
    "for key , values in dict1.items():\n",
    "    print(key,values)\n"
   ]
  },
  {
   "cell_type": "code",
   "execution_count": 28,
   "id": "2f565a6c",
   "metadata": {},
   "outputs": [
    {
     "name": "stdout",
     "output_type": "stream",
     "text": [
      "Rakshit, Chirag, Rahul, Malay, Hardik, Jay, "
     ]
    }
   ],
   "source": [
    "# Q 36. How Do You Check The Presence Of A Key In A Dictionary?\n",
    "dict1={\"Rakshit\":14,\"Chirag\":15,\"Rahul\":16,\"Malay\":17,\"Hardik\":18,\"Jay\":19}\n",
    "for i in dict1.keys():    #To get the key\n",
    "    print(i,end=\", \")"
   ]
  },
  {
   "cell_type": "code",
   "execution_count": 13,
   "id": "6fe4f79d",
   "metadata": {},
   "outputs": [
    {
     "name": "stdout",
     "output_type": "stream",
     "text": [
      "{1: 1, 2: 4, 3: 9, 4: 16, 5: 25, 6: 36, 7: 49, 8: 64, 9: 81, 10: 100, 11: 121, 12: 144, 13: 169, 14: 196, 15: 225}\n"
     ]
    }
   ],
   "source": [
    "# Q 37. Write a Python script to print a dictionary where the keys are numbers between 1 and 15. \n",
    "dict1=dict()\n",
    "for i in range(1,16):\n",
    "    dict1[i]=i**2  # i power is 2\n",
    "print(dict1)\n"
   ]
  },
  {
   "cell_type": "code",
   "execution_count": null,
   "id": "4d3dbdf9",
   "metadata": {},
   "outputs": [],
   "source": []
  },
  {
   "cell_type": "code",
   "execution_count": 18,
   "id": "eccad2b0",
   "metadata": {},
   "outputs": [
    {
     "name": "stdout",
     "output_type": "stream",
     "text": [
      "Entre input Number :2\n",
      "Enter A key :Chirag\n",
      "Enter A key :gsdfgfw\n",
      "Yes\n",
      "No\n"
     ]
    }
   ],
   "source": [
    "# Q 38.Write a Python program to check multiple keys exists in a dictionary\n",
    "dict1={\"Rakshit\":14,\"Chirag\":15,\"Rahul\":16,\"Malay\":17,\"Hardik\":18,\"Jay\":19}\n",
    "n=int(input(\"Entre input Number :\"))\n",
    "list1=[]\n",
    "for i in range(n):\n",
    "    list1.append(input(\"Enter A key :\"))  #list1 append to user input\n",
    "dict1.keys()\n",
    "for j in list1: \n",
    "    if j not in dict1.keys():  #To check whether the user will give the key or not\n",
    "        print(\"No\")\n",
    "    else:\n",
    "        print(\"Yes\")"
   ]
  },
  {
   "cell_type": "code",
   "execution_count": 50,
   "id": "f40bb1c6",
   "metadata": {},
   "outputs": [
    {
     "name": "stdout",
     "output_type": "stream",
     "text": [
      "{'Rakshit': 45, 'Chirag': 46, 'Mehul': 11, 'Rakesh': 12}\n"
     ]
    }
   ],
   "source": [
    "# Q 39. Write a Python script to merge two Python dictionaries \n",
    "dict1={\"Rakshit\":45,\"Chirag\":46}\n",
    "# dict2={\"Rakshit\":45,\"Chirag\":46}\n",
    "dict3={\"Mehul\":11,\"Rakesh\":12}\n",
    "# if dict1 == dict3 or dict1 == dict2:\n",
    "#     print(f\"{dict1} And {dict2} is Merge\")\n",
    "# else:\n",
    "#     print(f\"{dict1} And {dict3} is not a Merge \n",
    "dict4={}\n",
    "dict1.update(dict3) #dict3 is marge to dict and dict2\n",
    "print(dict1)"
   ]
  },
  {
   "cell_type": "code",
   "execution_count": 25,
   "id": "e48e2ff6",
   "metadata": {},
   "outputs": [
    {
     "name": "stdout",
     "output_type": "stream",
     "text": [
      "1 8 27 64 125 216 343 512 729 1000 "
     ]
    }
   ],
   "source": [
    "# Q 40. Write a Python program to map two lists into a dictionary \n",
    "def fun1(l1):\n",
    "       return l1**3  #return to li power of 3\n",
    "list1=[1,2,3,4,5,6,7,8,9,10]\n",
    "data=map(fun1,list1)  #use for map function\n",
    "for i in data:\n",
    "    print(i,end=\" \")"
   ]
  },
  {
   "cell_type": "code",
   "execution_count": 36,
   "id": "816ea754",
   "metadata": {},
   "outputs": [
    {
     "name": "stdout",
     "output_type": "stream",
     "text": [
      "Counter({'a': 400, 'b': 400, 'd': 400, 'c': 300})\n"
     ]
    }
   ],
   "source": [
    "# Q 41. Write a Python program to combine two dictionary adding values for common keys.\n",
    "from collections import Counter   \n",
    "d1 = {'a': 100, 'b': 200, 'c':300}\n",
    "d2 = {'a': 300, 'b': 200, 'd':400} \n",
    "\n",
    "d3=Counter(d1)+Counter(d2)  #Counter import to d2 values adding to  d2 in d3\n",
    "print(d3)"
   ]
  },
  {
   "cell_type": "code",
   "execution_count": 13,
   "id": "b6ae928d",
   "metadata": {},
   "outputs": [
    {
     "name": "stdout",
     "output_type": "stream",
     "text": [
      "{'movies', 'music', 'sports', 'news'}\n",
      "4\n"
     ]
    }
   ],
   "source": [
    "# Q 42. Write a Python program to print all unique values in a dictionary. \n",
    "\n",
    "list1 = [{\"abc\":\"movies\"}, {\"abc\": \"sports\"}, {\"abc\": \"music\"}, {\"xyz\": \"music\"}, {\"pqr\":\"music\"}, {\"pqr\":\"movies\"},{\"pqr\":\"sports\"}, {\"pqr\":\"news\"}, {\"pqr\":\"sports\"}]\n",
    "set1 = set()\n",
    "for i in list1: \n",
    "    for j in i.values(): #to get unique values\n",
    "        set1.add(j)  #unique values add in set1\n",
    "print(set1)\n",
    "print(len(set1))"
   ]
  },
  {
   "cell_type": "code",
   "execution_count": 50,
   "id": "92539269",
   "metadata": {},
   "outputs": [
    {
     "name": "stdout",
     "output_type": "stream",
     "text": [
      "{('Raj', 6), ('Jay', 3), ('Chirag', 2), ('Mehul', 5), ('Pratik', 4), ('Rakshit', 1)}\n"
     ]
    }
   ],
   "source": [
    "# Q 43.Why Do You Use the Zip () Method in Python? \n",
    "#----> Python's zip() function creates an iterator that will aggregate elements from two or more iterables. You can use the \n",
    "#      resulting iterator to quickly and consistently solve common programming problems, like creating dictionaries.\n",
    "name=[\"Rakshit\",\"Chirag\",\"Jay\",\"Pratik\",\"Mehul\",\"Raj\"]\n",
    "Roll=[1,2,3,4,5,6]\n",
    "Ditils=zip(name,Roll)\n",
    "print(set(Ditils))"
   ]
  },
  {
   "cell_type": "code",
   "execution_count": 51,
   "id": "47f9a095",
   "metadata": {},
   "outputs": [
    {
     "name": "stdout",
     "output_type": "stream",
     "text": [
      "ac\n",
      "ad\n",
      "bc\n",
      "bd\n"
     ]
    }
   ],
   "source": [
    "# Q 44. Write a Python program to create and display all combinations of letters, selecting each letter from a different key in a dictionary. \n",
    "\n",
    "d={'1': ['a','b'], '2': ['c','d']} \n",
    "for i in d['1']:\n",
    "    for j in d['2']:\n",
    "        print(i + j)"
   ]
  },
  {
   "cell_type": "code",
   "execution_count": 57,
   "id": "0a864abd",
   "metadata": {},
   "outputs": [
    {
     "name": "stdout",
     "output_type": "stream",
     "text": [
      "[789, 569, 563]\n"
     ]
    }
   ],
   "source": [
    "# Q 45. Write a Python program to find the highest 3 values in a dictionary\n",
    "dict1={45:48,48:569,87:25,36:789,124:563}\n",
    "list1=list(dict1.values())  #dictionary values convert to list\n",
    "list1.sort(reverse=True) #list1 to sort and decending\n",
    "print(list1[:3]) #0 to 3 first element"
   ]
  },
  {
   "cell_type": "code",
   "execution_count": 3,
   "id": "3309ac47",
   "metadata": {},
   "outputs": [
    {
     "name": "stdout",
     "output_type": "stream",
     "text": [
      "{'item1': 1150, 'item2': 300}\n"
     ]
    }
   ],
   "source": [
    "# Q 46. Write a Python program to combine values in python list of dictionaries.\n",
    "\n",
    "d= [{'item': 'item1', 'amount': 400}, {'item': 'item2', 'amount':300}, {'item': 'item1', 'amount': 750}] \n",
    "dict1={}  #dict empty\n",
    "for i in d:\n",
    "    if i['item'] in dict1:  #check to item dict1\n",
    "        dict1[i['item']] += i['amount']\n",
    "    else:\n",
    "        dict1[i['item']] = i['amount']\n",
    "print(dict1)"
   ]
  },
  {
   "cell_type": "code",
   "execution_count": 1,
   "id": "320aedb9",
   "metadata": {},
   "outputs": [
    {
     "name": "stdout",
     "output_type": "stream",
     "text": [
      "{'w': 1, '3': 1, 'r': 2, 'e': 2, 's': 1, 'o': 1, 'u': 1, 'c': 1}\n"
     ]
    }
   ],
   "source": [
    "# Q 47.  Write a Python program to create a dictionary from a string. \n",
    "d='w3resource'\n",
    "dict1={}  #empty dict\n",
    "for i in d: #check to d\n",
    "    if i in dict1:  #char in dict1 + 1\n",
    "        dict1[i] += 1\n",
    "    else:    #char in dict1 = 1\n",
    "        dict1[i] = 1\n",
    "print(dict1)"
   ]
  },
  {
   "cell_type": "code",
   "execution_count": 17,
   "id": "2695be86",
   "metadata": {},
   "outputs": [
    {
     "name": "stdout",
     "output_type": "stream",
     "text": [
      "Enter number : 5\n",
      "Factorial Number : 1\n",
      "Factorial Number : 2\n",
      "Factorial Number : 6\n",
      "Factorial Number : 24\n",
      "Factorial Number : 120\n"
     ]
    }
   ],
   "source": [
    "# Q 48. Write a Python function to calculate the factorial of a number (a nonnegative integer) \n",
    "\n",
    "def factorial(num):\n",
    "    fact=1\n",
    "    for i in range(1,num+1):\n",
    "        fact *= i;\n",
    "        print(f\"Factorial Number : {fact}\")\n",
    "    \n",
    "num=int(input(\"Enter number : \"))\n",
    "factorial(num)"
   ]
  },
  {
   "cell_type": "code",
   "execution_count": 11,
   "id": "f4a07410",
   "metadata": {},
   "outputs": [
    {
     "name": "stdout",
     "output_type": "stream",
     "text": [
      "Enter Number : 56\n",
      "Enter Satrting Number : 45\n",
      "Enter Ending Number : 88\n",
      "True\n"
     ]
    }
   ],
   "source": [
    "# Q 49. Write a Python function to check whether a number is in a given range\n",
    "\n",
    "def function(n,start_range,end_range=0):\n",
    "    if start_range <= n <= end_range:\n",
    "        print(\"True\")\n",
    "    elif end_range >= start_range:\n",
    "        print(\"False\")\n",
    "    elif end_range <= n <= start_range:\n",
    "        print(\"True\")\n",
    "    \n",
    "    \n",
    "n=int(input(\"Enter Number : \"))\n",
    "start_range=int(input(\"Enter Satrting Number : \"))\n",
    "end_range=int(input(\"Enter Ending Number : \"))\n",
    "function(n,start_range,end_range)"
   ]
  },
  {
   "cell_type": "code",
   "execution_count": 33,
   "id": "a54509a4",
   "metadata": {},
   "outputs": [
    {
     "name": "stdout",
     "output_type": "stream",
     "text": [
      "Enter number : 48\n",
      "1\n",
      "2\n",
      "3\n",
      "4\n",
      "6\n",
      "8\n",
      "12\n",
      "16\n",
      "24\n",
      "Not a perfect number\n"
     ]
    }
   ],
   "source": [
    "# Q 50. Write a Python function to check whether a number is perfect or not.\n",
    "\n",
    "def function(num):\n",
    "    sum=0\n",
    "    for i in range(1,num):\n",
    "        if num % i == 0:\n",
    "            sum += i\n",
    "            print(i)\n",
    "            sum == num\n",
    "    if sum == num:\n",
    "        print(\"Perfect Number \")\n",
    "    else:\n",
    "        print(\"Not a perfect number\")\n",
    "            \n",
    "num=int(input(\"Enter number : \"))\n",
    "function(num)"
   ]
  },
  {
   "cell_type": "code",
   "execution_count": 26,
   "id": "12e4bbd6",
   "metadata": {},
   "outputs": [
    {
     "name": "stdout",
     "output_type": "stream",
     "text": [
      "Enter String : wow\n",
      "String is Palindrome\n"
     ]
    }
   ],
   "source": [
    "# Q 51. Write a Python function that checks whether a passed string is palindrome or not \n",
    "def palidrome(str1):\n",
    "    if (str1 == str1[::-1]):\n",
    "        print(\"String is Palindrome\")\n",
    "    else:\n",
    "        print(\"String is not a Palindrome\")\n",
    "    \n",
    "str1=input(\"Enter String : \")\n",
    "palidrome(str1)"
   ]
  },
  {
   "cell_type": "code",
   "execution_count": null,
   "id": "f2bd9790",
   "metadata": {},
   "outputs": [],
   "source": [
    "# Q 52. How Many Basic Types Of Functions Are Available In Python?\n",
    "\n",
    "Python gives us to basic types of function\n",
    "\n",
    "1.Bulit-in , and\n",
    "\n",
    "2. user-defind.\n",
    "\n",
    "The built in function happen to be part of the python lenguage.Some of these are print(),dir(),len() and a"
   ]
  },
  {
   "cell_type": "code",
   "execution_count": 8,
   "id": "57be375d",
   "metadata": {},
   "outputs": [
    {
     "name": "stdout",
     "output_type": "stream",
     "text": [
      "item for tuple :  Basic\n"
     ]
    }
   ],
   "source": [
    "# Q 53. How can you pick a random item from a list or tuple?\n",
    "# --->   sing random.\n",
    "#        Create a tuple and add some dummy data to it. Generate a random item from the tuple using random. choice() \n",
    "#        method(This function returns a random element from the specified sequence i.e tuple here) by passing the input tuple as \n",
    "#        an argument to the choice() function. Print the generated random tuple item.\n",
    "\n",
    "import random\n",
    "tuple1=(12,\"python\",7,\"code\",20,\"Basic\")\n",
    "randomitem=random.choice(tuple1)\n",
    "print(\"item for tuple : \",randomitem)"
   ]
  },
  {
   "cell_type": "code",
   "execution_count": 43,
   "id": "a46c0891",
   "metadata": {
    "scrolled": true
   },
   "outputs": [
    {
     "name": "stdout",
     "output_type": "stream",
     "text": [
      "Print A Range of 1 to 50 : \n",
      "3\n",
      "39\n"
     ]
    }
   ],
   "source": [
    "# Q 54. How can you pick a random item from a range? \n",
    "# --->  Use the random. randrange() function(Returns a random number within the specified range) to generate a random number \n",
    "#       within the given range by passing minimum, and maximum numbers as arguments.\n",
    "import random\n",
    "\n",
    "print(\"Print A Range of 1 to 50 : \")\n",
    "\n",
    "x=random.randrange(1,30)\n",
    "print(x)\n",
    "y=random.randrange(31,50)\n",
    "print(y)"
   ]
  },
  {
   "cell_type": "code",
   "execution_count": 37,
   "id": "a8688da5",
   "metadata": {},
   "outputs": [
    {
     "name": "stdout",
     "output_type": "stream",
     "text": [
      "Print A Random Number : \n",
      "69\n"
     ]
    }
   ],
   "source": [
    "# Q 55. How can you get a random number in python? \n",
    "# --->  To generate random number in Python, randint() function is used. This function is defined in random module.\n",
    "\n",
    "import random\n",
    "\n",
    "print(\"Print A Random Number : \")\n",
    "x = random.randint(1,100)\n",
    "print(x)"
   ]
  },
  {
   "cell_type": "code",
   "execution_count": 50,
   "id": "c02dd717",
   "metadata": {},
   "outputs": [
    {
     "name": "stdout",
     "output_type": "stream",
     "text": [
      "0.5714025946899135\n",
      "0.1456692551041303\n"
     ]
    }
   ],
   "source": [
    "# Q 56. How will you set the starting value in generating random numbers?\n",
    "# --->  The random number generator needs a number to start with (a seed value), to be able to generate a random number. By \n",
    "#       default the random number generator uses the current system time. Use the seed() method to customize the start number\n",
    "#       of the random number generator.\n",
    "\n",
    "import random\n",
    "\n",
    "random.seed(10)\n",
    "print(random.random())\n",
    "\n",
    "random.seed(100)\n",
    "print(random.random())"
   ]
  },
  {
   "cell_type": "code",
   "execution_count": 22,
   "id": "7df9e95f",
   "metadata": {},
   "outputs": [
    {
     "name": "stdout",
     "output_type": "stream",
     "text": [
      "Enter number : 48\n",
      "[1, 2, 3, 4, 6, 8, 12, 16, 24]\n"
     ]
    }
   ],
   "source": []
  }
 ],
 "metadata": {
  "kernelspec": {
   "display_name": "Python 3 (ipykernel)",
   "language": "python",
   "name": "python3"
  },
  "language_info": {
   "codemirror_mode": {
    "name": "ipython",
    "version": 3
   },
   "file_extension": ".py",
   "mimetype": "text/x-python",
   "name": "python",
   "nbconvert_exporter": "python",
   "pygments_lexer": "ipython3",
   "version": "3.10.9"
  }
 },
 "nbformat": 4,
 "nbformat_minor": 5
}
